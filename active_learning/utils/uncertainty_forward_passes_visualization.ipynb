{
 "cells": [
  {
   "cell_type": "markdown",
   "metadata": {},
   "source": [
    "# Preliminary experiment to examine the effect of the numbers of forward passes to the consistency of the uncertainty estimate "
   ]
  },
  {
   "cell_type": "markdown",
   "metadata": {},
   "source": [
    "### Import the libraries "
   ]
  },
  {
   "cell_type": "code",
   "execution_count": 1,
   "metadata": {},
   "outputs": [],
   "source": [
    "import os\n",
    "import csv\n",
    "import numpy as np\n",
    "import pickle\n",
    "import seaborn as sns\n",
    "import pandas as pd\n",
    "from itertools import chain\n",
    "import matplotlib.pyplot as plt\n",
    "%matplotlib inline "
   ]
  },
  {
   "cell_type": "markdown",
   "metadata": {},
   "source": [
    "### Function to collect all uncertainty-files in a folder (pickle-format)"
   ]
  },
  {
   "cell_type": "code",
   "execution_count": 2,
   "metadata": {},
   "outputs": [],
   "source": [
    "def list_pkl_files(resultsdir):\n",
    "    pkl_files = []\n",
    "\n",
    "    if os.path.isdir(resultsdir):\n",
    "        for root, dirs, files in list(os.walk(resultsdir)):\n",
    "            for name in files:\n",
    "                subdir = root.split(resultsdir)\n",
    "                all('' == s for s in subdir)\n",
    "                \n",
    "                if subdir[1].startswith('/'):\n",
    "                    subdirname = subdir[1][1:]\n",
    "                else:\n",
    "                    subdirname = subdir[1]\n",
    "\n",
    "                if name.lower().endswith('.pkl'):\n",
    "                    if all('' == s for s in subdir):\n",
    "                        pkl_files.append(name)\n",
    "                    else:\n",
    "                        pkl_files.append(os.path.join(subdirname, name))\n",
    "    \n",
    "        pkl_files.sort()\n",
    "\n",
    "    return pkl_files"
   ]
  },
  {
   "cell_type": "markdown",
   "metadata": {},
   "source": [
    "### Initialize some paths and parameters"
   ]
  },
  {
   "cell_type": "code",
   "execution_count": 3,
   "metadata": {},
   "outputs": [],
   "source": [
    "resultsdir = \"results/exp2/prob_0.50\"\n",
    "two_up = os.path.abspath(os.path.join(os.getcwd(),\"../..\"))\n",
    "resultsdir = os.path.join(two_up, resultsdir)\n",
    "pkl_files = list_pkl_files(resultsdir)\n",
    "\n",
    "forward_passes = [2, 4]\n",
    "try:\n",
    "    prob = float(os.path.splitext(pkl_files[0].split(\"prob\")[-1])[0])\n",
    "except:\n",
    "    pass\n",
    "\n",
    "metric = 'std' # choose between 'std' (standard-deviation) and 'var' (variance)"
   ]
  },
  {
   "cell_type": "markdown",
   "metadata": {},
   "source": [
    "### Initialize the pandas-dataframe and csv-writer "
   ]
  },
  {
   "cell_type": "code",
   "execution_count": 4,
   "metadata": {},
   "outputs": [],
   "source": [
    "df = pd.DataFrame(columns=[\"number of forward passes\", metric])\n",
    "\n",
    "with open(os.path.join(resultsdir, 'forward_passes_{:s}_prob{:.2f}.csv'.format(metric, prob)), 'w', newline='') as csvfile:\n",
    "    csvwriter = csv.writer(csvfile, delimiter=',',quotechar='|', quoting=csv.QUOTE_MINIMAL)\n",
    "    csvwriter.writerow(['number of forward passes', 'total number of observations', 'mean', metric])"
   ]
  },
  {
   "cell_type": "markdown",
   "metadata": {},
   "source": [
    "###  Load the uncertainty-metrics and store the data in a pandas-dataframe "
   ]
  },
  {
   "cell_type": "code",
   "execution_count": 5,
   "metadata": {},
   "outputs": [],
   "source": [
    "for p in range(len(pkl_files)):\n",
    "    pkl_file = pkl_files[p]\n",
    "    fp = int(pkl_file.split(\"_\")[2])\n",
    "    \n",
    "    with open(os.path.join(resultsdir, pkl_file), 'rb') as handle:\n",
    "        uncertainties = pickle.load(handle)\n",
    "        all_vals = []\n",
    "        for key, val in uncertainties.items():\n",
    "            transposed = list(zip(*val))\n",
    "            if metric == 'var':\n",
    "                vals = [np.nanvar(values) for values in transposed]\n",
    "            elif metric == 'std':\n",
    "                vals = [np.nanstd(values) for values in transposed]\n",
    "            all_vals.append(vals)\n",
    "\n",
    "        all_vals = list(chain.from_iterable(all_vals))\n",
    "        current_iter = [fp for k in range(len(all_vals))]\n",
    "        data_tuples = list(zip(current_iter, all_vals))\n",
    "\n",
    "        cur_df = pd.DataFrame(data=data_tuples, columns=[\"number of forward passes\", metric])\n",
    "        df = pd.concat([df, cur_df])"
   ]
  },
  {
   "cell_type": "markdown",
   "metadata": {},
   "source": [
    "### Store the processed data in the csv-file"
   ]
  },
  {
   "cell_type": "code",
   "execution_count": 6,
   "metadata": {},
   "outputs": [],
   "source": [
    "if not df.empty:\n",
    "    num_obs = df.groupby([\"number of forward passes\"]).size()\n",
    "    means = df.groupby([\"number of forward passes\"]).mean()\n",
    "    if metric == 'var':\n",
    "        variations = df.groupby([\"number of forward passes\"]).var()\n",
    "    elif metric == 'std':\n",
    "        variations = df.groupby([\"number of forward passes\"]).std()\n",
    "\n",
    "    with open(os.path.join(resultsdir, 'forward_passes_{:s}_prob{:.2f}.csv'.format(metric, prob)), 'a', newline='') as csvfile:\n",
    "        csvwriter = csv.writer(csvfile, delimiter=',',quotechar='|', quoting=csv.QUOTE_MINIMAL)\n",
    "        num_obs = num_obs.to_list()\n",
    "        means = means.values \n",
    "        variations = variations.values\n",
    "        for it in range(len(forward_passes)):\n",
    "            iter = int(forward_passes[it])\n",
    "            no = int(num_obs[it])\n",
    "            me = float(means[it])\n",
    "            va = float(variations[it])\n",
    "            csvwriter.writerow([iter, no, me, va]) "
   ]
  },
  {
   "cell_type": "markdown",
   "metadata": {},
   "source": [
    "### Plot the processed data "
   ]
  },
  {
   "cell_type": "code",
   "execution_count": 7,
   "metadata": {},
   "outputs": [
    {
     "data": {
      "image/png": "[encoded data removed]",
      "text/plain": [
       "<Figure size 936x648 with 1 Axes>"
      ]
     },
     "metadata": {
      "needs_background": "light"
     },
     "output_type": "display_data"
    }
   ],
   "source": [
    "font_size = 15\n",
    "digit_size = 13\n",
    "annot_size = 14\n",
    "\n",
    "if not df.empty:\n",
    "    f, ax = plt.subplots(figsize=(13, 9))\n",
    "    ax = sns.pointplot(x=\"number of forward passes\", y=metric, data=df, ci=\"sd\", capsize=.1)\n",
    "    # ax = sns.lineplot(x=\"number of forward passes\", y=metric, ci=95, data=df, palette = \"tab10\")\n",
    "    ax.tick_params(labelrotation=0, labelsize=digit_size)\n",
    "\n",
    "    plt.xlabel(\"Number of forward passes\", fontsize=font_size)\n",
    "    if metric == 'var':\n",
    "        plt.ylabel(\"Variance\", fontsize=font_size)\n",
    "    elif metric == 'std':\n",
    "        plt.ylabel(\"Standard deviation\", fontsize=font_size)\n",
    "\n",
    "    plt.tight_layout()\n",
    "    plt.savefig(os.path.join(resultsdir, 'forward_passes_{:s}_prob{:.2f}.jpg'.format(metric, prob)))  "
   ]
  }
 ],
 "metadata": {
  "kernelspec": {
   "display_name": "Python 3.8.8 64-bit ('maskAL': conda)",
   "language": "python",
   "name": "python38864bitmaskalconda5eeceee4b8524f519f0da7eea7fb970c"
  },
  "language_info": {
   "codemirror_mode": {
    "name": "ipython",
    "version": 3
   },
   "file_extension": ".py",
   "mimetype": "text/x-python",
   "name": "python",
   "nbconvert_exporter": "python",
   "pygments_lexer": "ipython3",
   "version": "3.8.8"
  }
 },
 "nbformat": 4,
 "nbformat_minor": 2
}
